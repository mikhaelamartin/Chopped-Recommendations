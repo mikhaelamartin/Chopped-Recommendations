{
 "cells": [
  {
   "cell_type": "code",
   "execution_count": 1,
   "metadata": {},
   "outputs": [],
   "source": [
    "import pandas as pd\n",
    "import numpy as np\n",
    "\n",
    "from sklearn.feature_extraction.text import TfidfVectorizer\n",
    "from sklearn.metrics.pairwise import cosine_similarity\n",
    "\n",
    "from sklearn.cluster import KMeans\n",
    "import matplotlib.pyplot as plt\n",
    "from sklearn.decomposition import PCA\n",
    "\n",
    "import dataframe_image as dfi"
   ]
  },
  {
   "cell_type": "code",
   "execution_count": 2,
   "metadata": {},
   "outputs": [],
   "source": [
    "chopped = pd.read_csv('data/chopped.csv')"
   ]
  },
  {
   "cell_type": "code",
   "execution_count": 3,
   "metadata": {},
   "outputs": [
    {
     "data": {
      "text/plain": [
       "season                0\n",
       "season_episode        0\n",
       "series_episode        0\n",
       "episode_name          0\n",
       "episode_notes       113\n",
       "air_date              0\n",
       "judge1                1\n",
       "judge2                1\n",
       "judge3                1\n",
       "appetizer             0\n",
       "entree                0\n",
       "dessert               1\n",
       "contestant1           1\n",
       "contestant1_info     13\n",
       "contestant2           0\n",
       "contestant2_info     14\n",
       "contestant3           0\n",
       "contestant3_info     13\n",
       "contestant4           0\n",
       "contestant4_info     14\n",
       "dtype: int64"
      ]
     },
     "execution_count": 3,
     "metadata": {},
     "output_type": "execute_result"
    }
   ],
   "source": [
    "chopped.isnull().sum()"
   ]
  },
  {
   "cell_type": "code",
   "execution_count": 4,
   "metadata": {},
   "outputs": [
    {
     "data": {
      "text/html": [
       "<div>\n",
       "<style scoped>\n",
       "    .dataframe tbody tr th:only-of-type {\n",
       "        vertical-align: middle;\n",
       "    }\n",
       "\n",
       "    .dataframe tbody tr th {\n",
       "        vertical-align: top;\n",
       "    }\n",
       "\n",
       "    .dataframe thead th {\n",
       "        text-align: right;\n",
       "    }\n",
       "</style>\n",
       "<table border=\"1\" class=\"dataframe\">\n",
       "  <thead>\n",
       "    <tr style=\"text-align: right;\">\n",
       "      <th></th>\n",
       "      <th>episode_name</th>\n",
       "      <th>episode_notes</th>\n",
       "      <th>judge1</th>\n",
       "      <th>judge2</th>\n",
       "      <th>judge3</th>\n",
       "      <th>contestant1_info</th>\n",
       "      <th>contestant2_info</th>\n",
       "      <th>contestant3_info</th>\n",
       "      <th>contestant4_info</th>\n",
       "    </tr>\n",
       "  </thead>\n",
       "  <tbody>\n",
       "    <tr>\n",
       "      <th>0</th>\n",
       "      <td>\"Octopus, Duck, Animal Crackers\"</td>\n",
       "      <td>This is the first episode with only three offi...</td>\n",
       "      <td>Marc Murphy</td>\n",
       "      <td>Alex Guarnaschelli</td>\n",
       "      <td>Aarón Sánchez</td>\n",
       "      <td>Private Chef and Nutrition Coach  New York  NY</td>\n",
       "      <td>Private Chef and Sous chef  Bar Blanc  New Yo...</td>\n",
       "      <td>Pastry Chef  Olana Restaurant  New York  NY</td>\n",
       "      <td>Catering Chef  Showstoppers Catering at Union...</td>\n",
       "    </tr>\n",
       "    <tr>\n",
       "      <th>1</th>\n",
       "      <td>\"Tofu, Blueberries, Oysters\"</td>\n",
       "      <td>This is the first of a few episodes with five ...</td>\n",
       "      <td>Aarón Sánchez</td>\n",
       "      <td>Alex Guarnaschelli</td>\n",
       "      <td>Marc Murphy</td>\n",
       "      <td>Private Caterer and Culinary Instructor  West...</td>\n",
       "      <td>Chef de cuisine  Liberty National Golf Course...</td>\n",
       "      <td>Executive Chef and Owner  Ted and Honey  Broo...</td>\n",
       "      <td>Owner and Chef  Chef for Hire LLC  Newville  PA</td>\n",
       "    </tr>\n",
       "    <tr>\n",
       "      <th>2</th>\n",
       "      <td>\"Avocado, Tahini, Bran Flakes\"</td>\n",
       "      <td>NaN</td>\n",
       "      <td>Aarón Sánchez</td>\n",
       "      <td>Alex Guarnaschelli</td>\n",
       "      <td>Marc Murphy</td>\n",
       "      <td>Executive Chef and Co-owner  La Palapa  New Y...</td>\n",
       "      <td>Chef de cuisine  SoHo Grand Hotel  New York  NY</td>\n",
       "      <td>Private Chef  New York  NY</td>\n",
       "      <td>Chef tournant  L’Atelier de Joël Robuchon  Ne...</td>\n",
       "    </tr>\n",
       "    <tr>\n",
       "      <th>3</th>\n",
       "      <td>\"Banana, Collard Greens, Grits\"</td>\n",
       "      <td>In the appetizer round, Chef Chuboda refused t...</td>\n",
       "      <td>Scott Conant</td>\n",
       "      <td>Amanda Freitag</td>\n",
       "      <td>Geoffrey Zakarian</td>\n",
       "      <td>Executive Chef  Ayza Wine Bar  New York  NY</td>\n",
       "      <td>Chef  Registered Dietician and Culinary Consu...</td>\n",
       "      <td>Executive Chef  Knickerbocker Bar &amp; Grill  Ne...</td>\n",
       "      <td>Chef and Owner  Taïm  New York  NY</td>\n",
       "    </tr>\n",
       "    <tr>\n",
       "      <th>4</th>\n",
       "      <td>\"Yucca, Watermelon, Tortillas\"</td>\n",
       "      <td>NaN</td>\n",
       "      <td>Geoffrey Zakarian</td>\n",
       "      <td>Alex Guarnaschelli</td>\n",
       "      <td>Marc Murphy</td>\n",
       "      <td>Personal Chef  New York  NY</td>\n",
       "      <td>Executive Chef  New York  NY</td>\n",
       "      <td>Executive Chef / Wine Director  Bloomingdale ...</td>\n",
       "      <td>Chef de cuisine  Gordon Ramsay at The London ...</td>\n",
       "    </tr>\n",
       "  </tbody>\n",
       "</table>\n",
       "</div>"
      ],
      "text/plain": [
       "                       episode_name  \\\n",
       "0  \"Octopus, Duck, Animal Crackers\"   \n",
       "1      \"Tofu, Blueberries, Oysters\"   \n",
       "2    \"Avocado, Tahini, Bran Flakes\"   \n",
       "3   \"Banana, Collard Greens, Grits\"   \n",
       "4    \"Yucca, Watermelon, Tortillas\"   \n",
       "\n",
       "                                       episode_notes             judge1  \\\n",
       "0  This is the first episode with only three offi...        Marc Murphy   \n",
       "1  This is the first of a few episodes with five ...      Aarón Sánchez   \n",
       "2                                                NaN      Aarón Sánchez   \n",
       "3  In the appetizer round, Chef Chuboda refused t...       Scott Conant   \n",
       "4                                                NaN  Geoffrey Zakarian   \n",
       "\n",
       "               judge2             judge3  \\\n",
       "0  Alex Guarnaschelli      Aarón Sánchez   \n",
       "1  Alex Guarnaschelli        Marc Murphy   \n",
       "2  Alex Guarnaschelli        Marc Murphy   \n",
       "3      Amanda Freitag  Geoffrey Zakarian   \n",
       "4  Alex Guarnaschelli        Marc Murphy   \n",
       "\n",
       "                                    contestant1_info  \\\n",
       "0    Private Chef and Nutrition Coach  New York  NY    \n",
       "1   Private Caterer and Culinary Instructor  West...   \n",
       "2   Executive Chef and Co-owner  La Palapa  New Y...   \n",
       "3       Executive Chef  Ayza Wine Bar  New York  NY    \n",
       "4                       Personal Chef  New York  NY    \n",
       "\n",
       "                                    contestant2_info  \\\n",
       "0   Private Chef and Sous chef  Bar Blanc  New Yo...   \n",
       "1   Chef de cuisine  Liberty National Golf Course...   \n",
       "2   Chef de cuisine  SoHo Grand Hotel  New York  NY    \n",
       "3   Chef  Registered Dietician and Culinary Consu...   \n",
       "4                      Executive Chef  New York  NY    \n",
       "\n",
       "                                    contestant3_info  \\\n",
       "0       Pastry Chef  Olana Restaurant  New York  NY    \n",
       "1   Executive Chef and Owner  Ted and Honey  Broo...   \n",
       "2                        Private Chef  New York  NY    \n",
       "3   Executive Chef  Knickerbocker Bar & Grill  Ne...   \n",
       "4   Executive Chef / Wine Director  Bloomingdale ...   \n",
       "\n",
       "                                    contestant4_info  \n",
       "0   Catering Chef  Showstoppers Catering at Union...  \n",
       "1   Owner and Chef  Chef for Hire LLC  Newville  PA   \n",
       "2   Chef tournant  L’Atelier de Joël Robuchon  Ne...  \n",
       "3                Chef and Owner  Taïm  New York  NY   \n",
       "4   Chef de cuisine  Gordon Ramsay at The London ...  "
      ]
     },
     "execution_count": 4,
     "metadata": {},
     "output_type": "execute_result"
    }
   ],
   "source": [
    "# Drop irrelevant rows\n",
    "#chopped = chopped.drop(columns=['season','season_episode','series_episode','air_date','appetizer','entree','dessert','contestant1','contestant2','contestant3','contestant4'])\n",
    "keep = ['episode_name','episode_notes','judge1','judge2','judge3','contestant1_info','contestant2_info','contestant3_info','contestant4_info']\n",
    "chopped = chopped[keep]\n",
    "chopped.head()"
   ]
  },
  {
   "cell_type": "code",
   "execution_count": 5,
   "metadata": {},
   "outputs": [],
   "source": [
    "for i, col in enumerate(chopped.columns):\n",
    "    chopped.iloc[:, i] = chopped.iloc[:, i].str.replace('\"', '')"
   ]
  },
  {
   "cell_type": "code",
   "execution_count": 6,
   "metadata": {},
   "outputs": [],
   "source": [
    "# create new column to include all information in one string\n",
    "chopped['combined'] = chopped[keep].apply(lambda row: ' '.join(row.values.astype(str)), axis=1)"
   ]
  },
  {
   "cell_type": "code",
   "execution_count": 7,
   "metadata": {},
   "outputs": [
    {
     "data": {
      "text/plain": [
       "<569x1167 sparse matrix of type '<class 'numpy.float64'>'\n",
       "\twith 27533 stored elements in Compressed Sparse Row format>"
      ]
     },
     "execution_count": 7,
     "metadata": {},
     "output_type": "execute_result"
    }
   ],
   "source": [
    "# calculate TFIDFvectorizor scores\n",
    "# ngram_range=(1,3),\n",
    "vectorizer = TfidfVectorizer(ngram_range=(1,3),stop_words='english',min_df=.01,max_df=.8)\n",
    "tfidf = vectorizer.fit_transform(chopped['combined'])\n",
    "tfidf"
   ]
  },
  {
   "cell_type": "code",
   "execution_count": 8,
   "metadata": {},
   "outputs": [
    {
     "data": {
      "text/plain": [
       "TfidfVectorizer(max_df=0.8, min_df=0.01, ngram_range=(1, 3),\n",
       "                stop_words='english')"
      ]
     },
     "execution_count": 8,
     "metadata": {},
     "output_type": "execute_result"
    }
   ],
   "source": [
    "vectorizer"
   ]
  },
  {
   "cell_type": "code",
   "execution_count": 9,
   "metadata": {},
   "outputs": [],
   "source": [
    "# calculate similarity scores between all episodes\n",
    "cosine_sim = cosine_similarity(tfidf)\n"
   ]
  },
  {
   "cell_type": "code",
   "execution_count": 10,
   "metadata": {},
   "outputs": [],
   "source": [
    "# create function to print similar episodes and similarity scores\n",
    "def get_recs(episode_name):\n",
    "    enumerated = enumerate(cosine_sim[chopped[chopped['episode_name'] == episode_name].index[0]])\n",
    "    listed = list(enumerated)\n",
    "    sorteds = sorted(listed,key = lambda x:x[1], reverse=True)[:10]\n",
    "    return sorteds\n",
    "\n",
    "# create function to print names of similar episodes\n",
    "def get_names(episode_name):\n",
    "    sorteds = get_recs(episode_name)\n",
    "    j = 0\n",
    "    for i in sorteds[1:]:\n",
    "        episode = chopped.iloc[i[0]].episode_name\n",
    "        print('Episode ', i[0]+1, ': ', episode)\n",
    "        j+=1"
   ]
  },
  {
   "cell_type": "code",
   "execution_count": 11,
   "metadata": {},
   "outputs": [
    {
     "data": {
      "text/plain": [
       "[(0, 1.0),\n",
       " (36, 0.5126709799782215),\n",
       " (41, 0.44883123887885856),\n",
       " (554, 0.4357045335728815),\n",
       " (21, 0.41187529198186135),\n",
       " (2, 0.39817326433455863),\n",
       " (13, 0.37974451426695144),\n",
       " (78, 0.3775370795004665),\n",
       " (35, 0.3727629212045674),\n",
       " (53, 0.3719341217947912)]"
      ]
     },
     "execution_count": 11,
     "metadata": {},
     "output_type": "execute_result"
    }
   ],
   "source": [
    "# test function\n",
    "episode = \"Octopus, Duck, Animal Crackers\"\n",
    "get_recs(episode)"
   ]
  },
  {
   "cell_type": "code",
   "execution_count": 12,
   "metadata": {},
   "outputs": [
    {
     "name": "stdout",
     "output_type": "stream",
     "text": [
      "Episode  37 :  Raw Enthusiasm\n",
      "Episode  42 :  Jitters & Giant Eggs\n",
      "Episode  555 :  Lighten Up!\n",
      "Episode  22 :  Buckwheat Blunders and Twists of Fate\n",
      "Episode  3 :  Avocado, Tahini, Bran Flakes\n",
      "Episode  14 :  A Prickly Situation\n",
      "Episode  79 :  Canned Cheese, Please!\n",
      "Episode  36 :  In A Pinch\n",
      "Episode  54 :  Wok This Way\n"
     ]
    }
   ],
   "source": [
    "# test get_names\n",
    "get_names(episode)"
   ]
  },
  {
   "cell_type": "code",
   "execution_count": 13,
   "metadata": {},
   "outputs": [
    {
     "name": "stdout",
     "output_type": "stream",
     "text": [
      "Episode  37 :  Raw Enthusiasm\n",
      "Episode  42 :  Jitters & Giant Eggs\n",
      "Episode  555 :  Lighten Up!\n",
      "Episode  22 :  Buckwheat Blunders and Twists of Fate\n",
      "Episode  3 :  Avocado, Tahini, Bran Flakes\n",
      "Episode  14 :  A Prickly Situation\n",
      "Episode  79 :  Canned Cheese, Please!\n",
      "Episode  36 :  In A Pinch\n",
      "Episode  54 :  Wok This Way\n"
     ]
    }
   ],
   "source": [
    "# test get_names\n",
    "get_names(episode)"
   ]
  },
  {
   "cell_type": "code",
   "execution_count": 14,
   "metadata": {},
   "outputs": [
    {
     "name": "stdout",
     "output_type": "stream",
     "text": [
      "Episode  498 :  Whiz Kid Cooks\n",
      "Episode  253 :  Teen Tournament: Part Two\n",
      "Episode  255 :  Teen Tournament: Part Four\n",
      "Episode  192 :  Teen Invasion\n",
      "Episode  254 :  Teen Tournament: Part Three\n",
      "Episode  306 :  Teen Tournament: Episode Three\n",
      "Episode  309 :  Teen Tournament: Grand Finale\n",
      "Episode  307 :  Teen Tournament: Episode Four\n",
      "Episode  252 :  Teen Tournament: Part One\n"
     ]
    }
   ],
   "source": [
    "get_names('It\\'s a Sibling Thing')"
   ]
  },
  {
   "cell_type": "code",
   "execution_count": 15,
   "metadata": {},
   "outputs": [
    {
     "name": "stdout",
     "output_type": "stream",
     "text": [
      "Episode  170 :  Chopped All-Stars: Mega Chefs\n",
      "Episode  120 :  All-Stars: Judge Remix\n",
      "Episode  289 :  Judges' Face-Off\n",
      "Episode  172 :  Chopped All-Stars: Celebrities\n",
      "Episode  297 :  Rock Stars\n",
      "Episode  169 :  Chopped All-Stars: Food Network vs. Cooking Channel\n",
      "Episode  117 :  All-Stars: Iron Chefs Do Battle\n",
      "Episode  229 :  Chopped Tournament of Stars: Sports Stars!\n",
      "Episode  173 :  Chopped All-Stars: Finale!\n"
     ]
    }
   ],
   "source": [
    "get_names('Chopped All-Stars: Judges')"
   ]
  },
  {
   "cell_type": "markdown",
   "metadata": {},
   "source": [
    "# Visualize Episode Clusters"
   ]
  },
  {
   "cell_type": "code",
   "execution_count": 56,
   "metadata": {},
   "outputs": [
    {
     "data": {
      "image/png": "[encoded data removed]",
      "text/plain": [
       "<Figure size 432x288 with 1 Axes>"
      ]
     },
     "metadata": {
      "needs_background": "light"
     },
     "output_type": "display_data"
    }
   ],
   "source": [
    "cost =[] \n",
    "for i in range(1, 15): \n",
    "    kmeans = KMeans(n_clusters=i, random_state=0)\n",
    "    kmeans.fit(tfidf)\n",
    "      \n",
    "    # calculates squared error \n",
    "    # for the clustered points \n",
    "    cost.append(kmeans.inertia_)      \n",
    "  \n",
    "# plot the cost against K values \n",
    "plt.plot(range(1, 15), cost, color ='g', linewidth ='3') \n",
    "plt.xlabel(\"Value of K\") \n",
    "plt.ylabel(\"Sqaured Error (Cost)\") \n",
    "plt.savefig(r'images/elbow-plot')"
   ]
  },
  {
   "cell_type": "code",
   "execution_count": 16,
   "metadata": {},
   "outputs": [
    {
     "data": {
      "text/plain": [
       "KMeans(max_iter=100, n_clusters=7, n_init=1, random_state=0)"
      ]
     },
     "execution_count": 16,
     "metadata": {},
     "output_type": "execute_result"
    }
   ],
   "source": [
    "k = 7\n",
    "\n",
    "model = KMeans(n_clusters=k, init='k-means++',max_iter=100,n_init=1,random_state=0)\n",
    "model.fit(tfidf)"
   ]
  },
  {
   "cell_type": "code",
   "execution_count": 17,
   "metadata": {},
   "outputs": [],
   "source": [
    "chopped['cluster'] = model.labels_"
   ]
  },
  {
   "cell_type": "code",
   "execution_count": 18,
   "metadata": {},
   "outputs": [
    {
     "name": "stdout",
     "output_type": "stream",
     "text": [
      "Cluster centroids: \n",
      "\n",
      "Cluster 0:\n",
      " episode\n",
      " age\n",
      " ny episode\n",
      " tournament\n",
      " york ny episode\n",
      " champions\n",
      " chopped\n",
      " round\n",
      " winner\n",
      " ny\n",
      "---\n",
      "Cluster 1:\n",
      " owner\n",
      " chef owner\n",
      " executive\n",
      " executive chef\n",
      " ny\n",
      " sous chef\n",
      " sous\n",
      " ma\n",
      " boston ma\n",
      " boston\n",
      "---\n",
      "Cluster 2:\n",
      " ca\n",
      " angeles\n",
      " los angeles\n",
      " san\n",
      " los\n",
      " angeles ca\n",
      " los angeles ca\n",
      " francisco\n",
      " executive\n",
      " san francisco\n",
      "---\n",
      "Cluster 3:\n",
      " charity\n",
      " nan nan\n",
      " stars\n",
      " nan\n",
      " nan nan nan\n",
      " foundation\n",
      " tournament\n",
      " stars tournament\n",
      " chopped\n",
      " celebrity\n",
      "---\n",
      "Cluster 4:\n",
      " ny\n",
      " round\n",
      " episode\n",
      " executive\n",
      " executive chef\n",
      " new\n",
      " amanda freitag\n",
      " freitag\n",
      " amanda\n",
      " marc murphy\n",
      "---\n",
      "Cluster 5:\n",
      " ny\n",
      " york\n",
      " new york\n",
      " new york ny\n",
      " york ny\n",
      " new\n",
      " executive\n",
      " ny executive\n",
      " executive chef\n",
      " ny executive chef\n",
      "---\n",
      "Cluster 6:\n",
      " las\n",
      " vegas\n",
      " las vegas\n",
      " las vegas nv\n",
      " vegas nv\n",
      " nv\n",
      " pastry\n",
      " pastry chef\n",
      " round\n",
      " owner\n",
      "---\n"
     ]
    }
   ],
   "source": [
    "print(\"Cluster centroids: \\n\")\n",
    "order_centroids = model.cluster_centers_.argsort()[:, ::-1]\n",
    "terms = vectorizer.get_feature_names()\n",
    "\n",
    "for i in range(k):\n",
    "    print(\"Cluster %d:\" %i)\n",
    "    for j in order_centroids[i, :10]: # print most relevant terms in cluster\n",
    "        print(' %s' % terms[j])\n",
    "    print('---')"
   ]
  },
  {
   "cell_type": "code",
   "execution_count": 21,
   "metadata": {},
   "outputs": [],
   "source": [
    "cluster_descriptions = ['0: Champions/Tournaments','1: Northeast Chefs','2: California Chefs','3: Celebrity/Charity','5: NY Chefs/Popular Judges','5: NY Executive Chefs','6: Las Vegas/Pastry']"
   ]
  },
  {
   "cell_type": "code",
   "execution_count": 22,
   "metadata": {},
   "outputs": [
    {
     "data": {
      "image/png": "[encoded data removed]",
      "text/plain": [
       "<Figure size 432x288 with 1 Axes>"
      ]
     },
     "metadata": {
      "needs_background": "light"
     },
     "output_type": "display_data"
    }
   ],
   "source": [
    "## visualizing cluster\n",
    "\n",
    "kmean_indices = model.fit_predict(tfidf)\n",
    "\n",
    "pca = PCA()\n",
    "scatter_plot_points = pca.fit_transform(tfidf.toarray())\n",
    "centers_reduced = pca.transform(model.cluster_centers_)\n",
    "\n",
    "scatter = plt.scatter(scatter_plot_points[:, 0], scatter_plot_points[:, 1], c=chopped['cluster'],\n",
    "            cmap='rainbow')\n",
    "labels = np.unique(chopped['cluster'])\n",
    "handles = [plt.Line2D([],[],marker=\"o\", ls=\"\", \n",
    "                      color=scatter.cmap(scatter.norm(yi))) for yi in labels]\n",
    "plt.legend(handles, cluster_descriptions,bbox_to_anchor=(1.1, 1.05))\n",
    "plt.title('Celebrity/Charity Episodes and New York Chefs Episodes Differed the Most')\n",
    "plt.savefig(r'images/PCA Plot')"
   ]
  },
  {
   "cell_type": "code",
   "execution_count": 26,
   "metadata": {},
   "outputs": [],
   "source": [
    "top_10 = chopped.iloc[[0,507,265,168,50,12,295,288,170],[0,1,-1]] #.sort_values(by=['cluster'])"
   ]
  },
  {
   "cell_type": "code",
   "execution_count": 40,
   "metadata": {},
   "outputs": [],
   "source": [
    "pd.set_option('display.max_colwidth', None)"
   ]
  },
  {
   "cell_type": "code",
   "execution_count": 41,
   "metadata": {},
   "outputs": [
    {
     "data": {
      "text/html": [
       "<div>\n",
       "<style scoped>\n",
       "    .dataframe tbody tr th:only-of-type {\n",
       "        vertical-align: middle;\n",
       "    }\n",
       "\n",
       "    .dataframe tbody tr th {\n",
       "        vertical-align: top;\n",
       "    }\n",
       "\n",
       "    .dataframe thead th {\n",
       "        text-align: right;\n",
       "    }\n",
       "</style>\n",
       "<table border=\"1\" class=\"dataframe\">\n",
       "  <thead>\n",
       "    <tr style=\"text-align: right;\">\n",
       "      <th></th>\n",
       "      <th>episode_name</th>\n",
       "      <th>episode_notes</th>\n",
       "      <th>cluster</th>\n",
       "    </tr>\n",
       "  </thead>\n",
       "  <tbody>\n",
       "    <tr>\n",
       "      <th>0</th>\n",
       "      <td>Octopus, Duck, Animal Crackers</td>\n",
       "      <td>This is the first episode with only three official ingredients in a basket (dessert round). There would be no hard set limit until season 4.</td>\n",
       "      <td>5</td>\n",
       "    </tr>\n",
       "    <tr>\n",
       "      <th>507</th>\n",
       "      <td>It's a Sibling Thing</td>\n",
       "      <td>This was a team cook episode where the duos were young siblings. As with most other child-themed Chopped episodes, the first round was extended to 30 minutes.</td>\n",
       "      <td>0</td>\n",
       "    </tr>\n",
       "    <tr>\n",
       "      <th>265</th>\n",
       "      <td>Chopped Family Thanksgiving</td>\n",
       "      <td>This was a special Thanksgiving episode where the competitors were regular Chopped judges who were playing to win money for the charity No Kid Hungry. This is the first episode to have four judges on the judging panel instead of the usual three so the contestants had to make five plates instead of the usual four.</td>\n",
       "      <td>3</td>\n",
       "    </tr>\n",
       "    <tr>\n",
       "      <th>168</th>\n",
       "      <td>Chopped All-Stars: Food Network vs. Cooking Channel</td>\n",
       "      <td>This is the second tournament of the season. This time it's a 5-part charity tournament. As with previous celebrity/all-star tournaments, the winner gets $50,000 for their charity. This heat featured two Food Network personalities and two Cooking Channel personalities.</td>\n",
       "      <td>3</td>\n",
       "    </tr>\n",
       "    <tr>\n",
       "      <th>50</th>\n",
       "      <td>Crunch Time</td>\n",
       "      <td>This was the first appearance of Madison Cowan, who would go on to appear on various Food Network shows as a contestant and a judge including Iron Chef America, Beat Bobby Flay, and Guy's Grocery Games.</td>\n",
       "      <td>5</td>\n",
       "    </tr>\n",
       "    <tr>\n",
       "      <th>12</th>\n",
       "      <td>Strawberries, Turkey and Gummi Bears</td>\n",
       "      <td>NaN</td>\n",
       "      <td>1</td>\n",
       "    </tr>\n",
       "    <tr>\n",
       "      <th>295</th>\n",
       "      <td>Tendon Intentions</td>\n",
       "      <td>The trash fish in round 2 was scut fish (specifically 'porgy', as stated in the Chopped: After Hours segment for this episode). Chef Almodovar has competed in various food competitions including Cutthroat Kitchen and Hell's Kitchen.</td>\n",
       "      <td>1</td>\n",
       "    </tr>\n",
       "    <tr>\n",
       "      <th>288</th>\n",
       "      <td>Judges' Face-Off</td>\n",
       "      <td>All basket ingredients were leftovers. All contestants were Chopped judges and were competing for charity. The Tex-Mex condiments consisted of guacamole, salsa, and sour cream.</td>\n",
       "      <td>3</td>\n",
       "    </tr>\n",
       "    <tr>\n",
       "      <th>170</th>\n",
       "      <td>Chopped All-Stars: Judges</td>\n",
       "      <td>This is part 3 of a 5-part charity tournament. This heat featured Chopped judges, all of whom have competed on Chopped previously except for Scott Conant.</td>\n",
       "      <td>3</td>\n",
       "    </tr>\n",
       "  </tbody>\n",
       "</table>\n",
       "</div>"
      ],
      "text/plain": [
       "                                            episode_name  \\\n",
       "0                         Octopus, Duck, Animal Crackers   \n",
       "507                                 It's a Sibling Thing   \n",
       "265                          Chopped Family Thanksgiving   \n",
       "168  Chopped All-Stars: Food Network vs. Cooking Channel   \n",
       "50                                           Crunch Time   \n",
       "12                  Strawberries, Turkey and Gummi Bears   \n",
       "295                                    Tendon Intentions   \n",
       "288                                     Judges' Face-Off   \n",
       "170                            Chopped All-Stars: Judges   \n",
       "\n",
       "                                                                                                                                                                                                                                                                                                                  episode_notes  \\\n",
       "0                                                                                                                                                                                  This is the first episode with only three official ingredients in a basket (dessert round). There would be no hard set limit until season 4.   \n",
       "507                                                                                                                                                              This was a team cook episode where the duos were young siblings. As with most other child-themed Chopped episodes, the first round was extended to 30 minutes.   \n",
       "265  This was a special Thanksgiving episode where the competitors were regular Chopped judges who were playing to win money for the charity No Kid Hungry. This is the first episode to have four judges on the judging panel instead of the usual three so the contestants had to make five plates instead of the usual four.   \n",
       "168                                               This is the second tournament of the season. This time it's a 5-part charity tournament. As with previous celebrity/all-star tournaments, the winner gets $50,000 for their charity. This heat featured two Food Network personalities and two Cooking Channel personalities.   \n",
       "50                                                                                                                   This was the first appearance of Madison Cowan, who would go on to appear on various Food Network shows as a contestant and a judge including Iron Chef America, Beat Bobby Flay, and Guy's Grocery Games.   \n",
       "12                                                                                                                                                                                                                                                                                                                          NaN   \n",
       "295                                                                                    The trash fish in round 2 was scut fish (specifically 'porgy', as stated in the Chopped: After Hours segment for this episode). Chef Almodovar has competed in various food competitions including Cutthroat Kitchen and Hell's Kitchen.   \n",
       "288                                                                                                                                            All basket ingredients were leftovers. All contestants were Chopped judges and were competing for charity. The Tex-Mex condiments consisted of guacamole, salsa, and sour cream.   \n",
       "170                                                                                                                                                                  This is part 3 of a 5-part charity tournament. This heat featured Chopped judges, all of whom have competed on Chopped previously except for Scott Conant.   \n",
       "\n",
       "     cluster  \n",
       "0          5  \n",
       "507        0  \n",
       "265        3  \n",
       "168        3  \n",
       "50         5  \n",
       "12         1  \n",
       "295        1  \n",
       "288        3  \n",
       "170        3  "
      ]
     },
     "execution_count": 41,
     "metadata": {},
     "output_type": "execute_result"
    }
   ],
   "source": [
    "top_10"
   ]
  },
  {
   "cell_type": "code",
   "execution_count": 25,
   "metadata": {},
   "outputs": [
    {
     "data": {
      "text/html": [
       "<div>\n",
       "<style scoped>\n",
       "    .dataframe tbody tr th:only-of-type {\n",
       "        vertical-align: middle;\n",
       "    }\n",
       "\n",
       "    .dataframe tbody tr th {\n",
       "        vertical-align: top;\n",
       "    }\n",
       "\n",
       "    .dataframe thead th {\n",
       "        text-align: right;\n",
       "    }\n",
       "</style>\n",
       "<table border=\"1\" class=\"dataframe\">\n",
       "  <thead>\n",
       "    <tr style=\"text-align: right;\">\n",
       "      <th></th>\n",
       "      <th>episode_name</th>\n",
       "      <th>episode_notes</th>\n",
       "      <th>cluster</th>\n",
       "    </tr>\n",
       "  </thead>\n",
       "  <tbody>\n",
       "    <tr>\n",
       "      <th>0</th>\n",
       "      <td>Octopus, Duck, Animal Crackers</td>\n",
       "      <td>This is the first episode with only three official ingredients in a basket (dessert round). There would be no hard set limit until season 4.</td>\n",
       "      <td>5</td>\n",
       "    </tr>\n",
       "    <tr>\n",
       "      <th>507</th>\n",
       "      <td>It's a Sibling Thing</td>\n",
       "      <td>This was a team cook episode where the duos were young siblings. As with most other child-themed Chopped episodes, the first round was extended to 30 minutes.</td>\n",
       "      <td>0</td>\n",
       "    </tr>\n",
       "    <tr>\n",
       "      <th>265</th>\n",
       "      <td>Chopped Family Thanksgiving</td>\n",
       "      <td>This was a special Thanksgiving episode where the competitors were regular Chopped judges who were playing to win money for the charity No Kid Hungry. This is the first episode to have four judges on the judging panel instead of the usual three so the contestants had to make five plates instead of the usual four.</td>\n",
       "      <td>3</td>\n",
       "    </tr>\n",
       "    <tr>\n",
       "      <th>168</th>\n",
       "      <td>Chopped All-Stars: Food Network vs. Cooking Channel</td>\n",
       "      <td>This is the second tournament of the season. This time it's a 5-part charity tournament. As with previous celebrity/all-star tournaments, the winner gets $50,000 for their charity. This heat featured two Food Network personalities and two Cooking Channel personalities.</td>\n",
       "      <td>3</td>\n",
       "    </tr>\n",
       "    <tr>\n",
       "      <th>50</th>\n",
       "      <td>Crunch Time</td>\n",
       "      <td>This was the first appearance of Madison Cowan, who would go on to appear on various Food Network shows as a contestant and a judge including Iron Chef America, Beat Bobby Flay, and Guy's Grocery Games.</td>\n",
       "      <td>5</td>\n",
       "    </tr>\n",
       "    <tr>\n",
       "      <th>12</th>\n",
       "      <td>Strawberries, Turkey and Gummi Bears</td>\n",
       "      <td>NaN</td>\n",
       "      <td>1</td>\n",
       "    </tr>\n",
       "    <tr>\n",
       "      <th>295</th>\n",
       "      <td>Tendon Intentions</td>\n",
       "      <td>The trash fish in round 2 was scut fish (specifically 'porgy', as stated in the Chopped: After Hours segment for this episode). Chef Almodovar has competed in various food competitions including Cutthroat Kitchen and Hell's Kitchen.</td>\n",
       "      <td>1</td>\n",
       "    </tr>\n",
       "    <tr>\n",
       "      <th>288</th>\n",
       "      <td>Judges' Face-Off</td>\n",
       "      <td>All basket ingredients were leftovers. All contestants were Chopped judges and were competing for charity. The Tex-Mex condiments consisted of guacamole, salsa, and sour cream.</td>\n",
       "      <td>3</td>\n",
       "    </tr>\n",
       "    <tr>\n",
       "      <th>170</th>\n",
       "      <td>Chopped All-Stars: Judges</td>\n",
       "      <td>This is part 3 of a 5-part charity tournament. This heat featured Chopped judges, all of whom have competed on Chopped previously except for Scott Conant.</td>\n",
       "      <td>3</td>\n",
       "    </tr>\n",
       "  </tbody>\n",
       "</table>\n",
       "</div>"
      ],
      "text/plain": [
       "                                            episode_name  \\\n",
       "0                         Octopus, Duck, Animal Crackers   \n",
       "507                                 It's a Sibling Thing   \n",
       "265                          Chopped Family Thanksgiving   \n",
       "168  Chopped All-Stars: Food Network vs. Cooking Channel   \n",
       "50                                           Crunch Time   \n",
       "12                  Strawberries, Turkey and Gummi Bears   \n",
       "295                                    Tendon Intentions   \n",
       "288                                     Judges' Face-Off   \n",
       "170                            Chopped All-Stars: Judges   \n",
       "\n",
       "                                                                                                                                                                                                                                                                                                                  episode_notes  \\\n",
       "0                                                                                                                                                                                  This is the first episode with only three official ingredients in a basket (dessert round). There would be no hard set limit until season 4.   \n",
       "507                                                                                                                                                              This was a team cook episode where the duos were young siblings. As with most other child-themed Chopped episodes, the first round was extended to 30 minutes.   \n",
       "265  This was a special Thanksgiving episode where the competitors were regular Chopped judges who were playing to win money for the charity No Kid Hungry. This is the first episode to have four judges on the judging panel instead of the usual three so the contestants had to make five plates instead of the usual four.   \n",
       "168                                               This is the second tournament of the season. This time it's a 5-part charity tournament. As with previous celebrity/all-star tournaments, the winner gets $50,000 for their charity. This heat featured two Food Network personalities and two Cooking Channel personalities.   \n",
       "50                                                                                                                   This was the first appearance of Madison Cowan, who would go on to appear on various Food Network shows as a contestant and a judge including Iron Chef America, Beat Bobby Flay, and Guy's Grocery Games.   \n",
       "12                                                                                                                                                                                                                                                                                                                          NaN   \n",
       "295                                                                                    The trash fish in round 2 was scut fish (specifically 'porgy', as stated in the Chopped: After Hours segment for this episode). Chef Almodovar has competed in various food competitions including Cutthroat Kitchen and Hell's Kitchen.   \n",
       "288                                                                                                                                            All basket ingredients were leftovers. All contestants were Chopped judges and were competing for charity. The Tex-Mex condiments consisted of guacamole, salsa, and sour cream.   \n",
       "170                                                                                                                                                                  This is part 3 of a 5-part charity tournament. This heat featured Chopped judges, all of whom have competed on Chopped previously except for Scott Conant.   \n",
       "\n",
       "     cluster  \n",
       "0          5  \n",
       "507        0  \n",
       "265        3  \n",
       "168        3  \n",
       "50         5  \n",
       "12         1  \n",
       "295        1  \n",
       "288        3  \n",
       "170        3  "
      ]
     },
     "metadata": {},
     "output_type": "display_data"
    }
   ],
   "source": [
    "with pd.option_context('display.max_colwidth', None):\n",
    "  display(chopped.iloc[[0,507,265,168,50,12,295,288,170],[0,1,-1]])"
   ]
  },
  {
   "cell_type": "markdown",
   "metadata": {},
   "source": [
    "# Web App"
   ]
  },
  {
   "cell_type": "code",
   "execution_count": 16,
   "metadata": {},
   "outputs": [],
   "source": [
    "import pickle\n",
    "\n",
    "pickle.dump(chopped.to_dict(), open('episodes.pkl','wb'))"
   ]
  },
  {
   "cell_type": "code",
   "execution_count": 15,
   "metadata": {},
   "outputs": [
    {
     "data": {
      "text/plain": [
       "array(['Octopus, Duck, Animal Crackers', 'Tofu, Blueberries, Oysters',\n",
       "       'Avocado, Tahini, Bran Flakes', 'Banana, Collard Greens, Grits',\n",
       "       'Yucca, Watermelon, Tortillas',\n",
       "       'Canned Peaches, Rice Cakes, Beets', 'Quail, Arctic Char, Beer',\n",
       "       'Coconut, Calamari, Donuts', 'Mac & Cheese, Cola, Bacon',\n",
       "       'String Cheese, Jicama, Gingersnaps',\n",
       "       'Jumbo Shrimp, Pepperoncini, Cereal',\n",
       "       'Chocolate, Mussels and Figs',\n",
       "       'Strawberries, Turkey and Gummi Bears', 'A Prickly Situation',\n",
       "       'Salty Veggies & Heated Battles', 'High Hopes',\n",
       "       'Floundering Around', 'Pride on the Plate',\n",
       "       'Pretty Please with a Pepper on Top',\n",
       "       'Pods, Grills and Sticky Fingers', 'A Wish Upon A Starfruit',\n",
       "       'Buckwheat Blunders and Twists of Fate',\n",
       "       'Chopped Champions Event, Round One: The Ultimate Face-off',\n",
       "       'Chopped Champions Event, Round Two: Best of the Best',\n",
       "       'Chopped Champions Event, Round Three: All-Stars Showdown',\n",
       "       'Chopped Champions Event, Round Four: Bring It!',\n",
       "       'When Chefs Collide', 'Oh My Goshy, Umeboshi', 'Judge Knows Best',\n",
       "       'A Nori Story', 'Sticking To It', \"Season's Choppings\",\n",
       "       'Flower Power', 'Sweet Redemption', 'Winging It', 'In A Pinch',\n",
       "       'Raw Enthusiasm', 'Against the Tide', 'Chopped Liver',\n",
       "       'Rattle & Roll', 'My Froggy Clementine', 'Jitters & Giant Eggs',\n",
       "       'Dr. Deckle & Mr. Fried', 'Mussels Mastery & Cotton Candy Can-Do',\n",
       "       'First Things Worst', 'Fired Up!',\n",
       "       'Quahog Quandaries and Pickle Puzzles', 'Turbot Powered',\n",
       "       \"Keep On Cook'n On\", 'Green Apps and Lamb', 'Crunch Time',\n",
       "       'Rowdy With a Chance of Meatballs', \"Dream'n of Redeem'n\",\n",
       "       'Wok This Way', 'Squashed', '$50,000 Tournament: Round One',\n",
       "       '$50,000 Tournament: Round Two', '$50,000 Tournament: Round Three',\n",
       "       '$50,000 Tournament: Round Four',\n",
       "       '$50,000 Tournament: Grand Finale', 'Spouting Off',\n",
       "       'When Octopuses Attack', 'Fright Bites', 'Cornuchopia',\n",
       "       'Yes, Virginia, There is a Chopping Block', 'Victory on the Brain',\n",
       "       'Prove it on the Plate', 'Marrowly We Roll Along',\n",
       "       \"Doughs and Don'ts\", 'Step Right Up!',\n",
       "       'All-Stars Tournament: Round One – Competitors from The Next Food Network Star',\n",
       "       'All-Stars Tournament: Round Two – Food Network Personalities',\n",
       "       'All-Stars Tournament: Round Three – Notable Chefs',\n",
       "       'All-Stars Tournament: Round Four – Chopped Judges',\n",
       "       'All-Stars Tournament: Grand Finale', 'A Cornish Mess',\n",
       "       'Chefs on a Mission', 'The Icing on the Steak',\n",
       "       'Canned Cheese, Please!', 'Saying Sayonara', 'Have a Heart',\n",
       "       'Gotta Grill!', 'Get it Together', 'Bite Your Pickled Beef Tongue',\n",
       "       'Go For It!', 'Thyme Flies', 'Nopales, No Problem', 'Easy Peasy?',\n",
       "       'Ladies First!', 'Sweet Second Chance!', 'Chard & True', 'My Way',\n",
       "       'A is for Apple. U is for Udon', 'Trick or Treat, Chicken Feet!',\n",
       "       'Give It Your All', \"Can't Catch Me, I'm the Gingerbread Lobster!\",\n",
       "       \"Champions' Tournament: Part 1\", \"Champions' Tournament: Part 2\",\n",
       "       \"Champions' Tournament: Part 3\", \"Champions' Tournament: Part 4\",\n",
       "       \"Champions' Tournament: Grand Finale\", 'Time & Space',\n",
       "       \"Everything's Rosy\", 'Make A Splash!', 'One in a Hundred',\n",
       "       'Blood Orange Sorbet, Sweat, & Tears', 'Class Acts',\n",
       "       'Yakety Yak, Yak, Yak', 'Duck for Dinner', 'The Big Scoop',\n",
       "       'Chop on Through', 'Far Far Out!', 'Frozen Fries with That?',\n",
       "       'Redemption Competition', 'On the Line', \"Viewers' Choice!\",\n",
       "       'All-Stars: Iron Chefs Do Battle',\n",
       "       'All-Stars: Prime Time vs. Day Time',\n",
       "       'All-Stars: Food Network Star Contestants',\n",
       "       'All-Stars: Judge Remix', 'All-Stars: Grand Finale',\n",
       "       'Grilltastic!', \"I'm Your Huckleberry\", 'Chewing the Caul Fat',\n",
       "       'Good Chop, Bad Chop?', 'Leftovers Extravaganza!',\n",
       "       'Plenty of Fish', 'Sound the Alarm!', 'Ready, Set, Escargot!',\n",
       "       'Own It!', 'Yuzu Never Know', 'Reversal of Fortune',\n",
       "       'A Very Piggy Halloween', 'Happy Turkey Gizzards Day!',\n",
       "       'Chopping in a Winter Wonderland', 'Sunny Side Apps',\n",
       "       'A Guts Reaction', 'Chocolate Challenge', 'Pride of New Orleans',\n",
       "       'All-American Competition', 'Orzo It Seemed', 'Belly Dance!',\n",
       "       'Cake Walk?', 'Oui, Oui, Confit', 'Drawing a Flank',\n",
       "       'A Bunny Thing Happened', 'Charge!', \"For Sake's Sake\",\n",
       "       'Stacking Up', 'Class Acts, Too', 'No Kidding!', 'Pigging Out!',\n",
       "       'Unsung Heroes', 'Bird in the Pan', 'Thirsty for Victory',\n",
       "       'Trout Bout', 'Belly Up', 'Hecho en the Chopped Kitchen',\n",
       "       'Make No Mistake', 'Untrained, Undaunted', 'Leftovers Overload',\n",
       "       'Chopped Champions: Part 1', 'Chopped Champions: Part 2',\n",
       "       'Chopped Champions: Part 3', 'Chopped Champions: Part 4',\n",
       "       'Chopped Champions: Finale', 'Just for the Halibut',\n",
       "       'Redemption Intention',\n",
       "       'Chopped All-Stars: Food Network vs. Cooking Channel',\n",
       "       'Chopped All-Stars: Mega Chefs', 'Chopped All-Stars: Judges',\n",
       "       'Chopped All-Stars: Celebrities', 'Chopped All-Stars: Finale!',\n",
       "       'Heads Up!', 'Viewers Choice Baskets', 'Aussie Awesome',\n",
       "       'Without Missing a Beet', 'Momumental', 'Amazing Amateurs',\n",
       "       'Breakfast, Lunch and Dinner!', 'Military Salute',\n",
       "       'Cook Your Butt Off!', 'Better Saffron Than Sorry', 'Take Heart',\n",
       "       'Wheatgrass Roots', 'Wurst Case Scenario', 'Fry, Fry, Again',\n",
       "       'Cleaver Fever', 'Mix and Mache', 'Gyro We Go Again',\n",
       "       'Big Fish, Small Basket', 'Teen Invasion', 'Mochi Obliged',\n",
       "       'Sweet Surprises', 'Break a Crab Leg!', 'Walk on the Whelk Side',\n",
       "       'Chopped Family Feud', 'Extreme Halloween',\n",
       "       'A Chopped Thanksgiving', 'Wasted!', 'Keep On Trucking',\n",
       "       'Sports Stars', 'Hero Chefs', 'We Love Leftovers!',\n",
       "       'Count Your Chickens', 'Liver and Learn', 'Brunch Boxes',\n",
       "       'Circus Spectacular', 'Competition Italiano',\n",
       "       'Redeemed or Re-chopped?', 'Cloche Call', 'Celebrity Holiday Bash',\n",
       "       'No Pain, No Shame', 'Teen Talent', 'Tapas Time', 'Waste Not',\n",
       "       'Firefighter Chefs', \"Hoofin' It!\", 'Pizza Perfect',\n",
       "       'All-Burger Meal!', 'Chocolate Competition', 'Bacon Baskets!',\n",
       "       'Beer Here!', 'Burn for the Worse', 'An Egg Up',\n",
       "       'Ambitious Amateurs', 'Return and Redeem', 'Grandma vs. Grandma',\n",
       "       'Chopped Tournament of Stars: Sports Stars!',\n",
       "       'Tournament of Stars: Rachael vs. Guy!',\n",
       "       'Chopped Tournament of Stars: Comedians!',\n",
       "       'Chopped Tournament of Stars: Actors',\n",
       "       'Chopped Tournament of Stars: Finale', 'Peri Peri Determined',\n",
       "       \"Mother's Day\", 'Cool, Palm and Perfected',\n",
       "       'There Will Be Bloody Marys', 'Four Fathers',\n",
       "       'Dread and Breakfast', 'Leftovers Rescue Mission', \"G'day, Chefs!\",\n",
       "       'Salt Pearls of Wisdom', 'Swai Not?', 'Short and Sweetbreads',\n",
       "       'Fig Out', 'Big Hitters', 'Offal Surprise', 'Haricot Flair',\n",
       "       'Frankly Frantic', 'Chopped Chops', 'Pesto Chango',\n",
       "       'Teen Tournament: Part One', 'Teen Tournament: Part Two',\n",
       "       'Teen Tournament: Part Three', 'Teen Tournament: Part Four',\n",
       "       'Teen Tournament: Grand Finale', 'Food Truck Fight',\n",
       "       'Ultimate Champions: Professionals',\n",
       "       'Ultimate Champions: Amateur Champs', 'Ultimate Champions: Heroes',\n",
       "       'Ultimate Champions: Celebrities',\n",
       "       'Ultimate Champions: Grand Finale', 'Short Order Cooks',\n",
       "       'Money Saver', 'Mummies and Gummies',\n",
       "       'Chopped Family Thanksgiving', 'Meatball Madness',\n",
       "       'The Holiday Kitchen', 'Family Food Fight', 'Bizarre Baskets',\n",
       "       'Reality TV Stars', 'Late Night Food Brawl', \"Amateurs' Brawl\",\n",
       "       'Fabulous Baker Boys', 'Hot Stuff', 'Thrill of the Grill',\n",
       "       'Scoops On!', \"Every 'Wich Way\", \"Viewers' Choice Ingredients\",\n",
       "       'Chopped Again!', 'Say Cheese!', 'Chocolate Rush!',\n",
       "       'Double Trouble', 'T.G.I. Fry-Day', 'Amateurs Redemption',\n",
       "       \"Let's Do Lunch\", 'Fake Cake, Real Stakes', 'First Responders',\n",
       "       \"Judges' Face-Off\", 'Big Barbecue Bout',\n",
       "       'All Stars Tournament: Part 1', 'All Stars Tournament: Part 2',\n",
       "       'All Stars Tournament: Part 3', 'All Stars Tournament: Part 4',\n",
       "       'All Stars Tournament: Grand Finale', 'Tendon Intentions',\n",
       "       'Rock Stars', 'Wild Ride', 'College Challenge',\n",
       "       'Light Makes Right', 'Tailgate Fate', 'Chopped Gastropub',\n",
       "       'Holiday Cooking', 'Teen Tournament: Episode One',\n",
       "       'Teen Tournament: Episode Two', 'Teen Tournament: Episode Three',\n",
       "       'Teen Tournament: Episode Four', \"Viewers' Baskets\",\n",
       "       'Teen Tournament: Grand Finale', 'Teen Redeem', 'Sitcom Moms',\n",
       "       'Bizarre Battle', 'Oktoberfest!', 'Thanksgiving Soup-er Stars',\n",
       "       'Cooking with Bass', 'Mac and Cheese', 'A Chopped Halloween',\n",
       "       'Chopped Catwalk', 'Food Truck Kitchen', 'Military Vets',\n",
       "       'Chopped Desserts!', 'In-Laws, in Teams!', 'Family Affair',\n",
       "       'Battle of the Grandpas', 'Knife Strife', 'Healthy Rivalry',\n",
       "       'Brunch Battle', 'Chinese New Year', 'Tailgate Party',\n",
       "       'Bacon Boys', 'Love Bites', 'Ready for Redemption',\n",
       "       'Cooking Caribbean', 'Truck Stop Stars', 'Beg, Borrow or Eel',\n",
       "       'Chopped: College', 'The Bold and the Baconful',\n",
       "       'Chopped Champions: Battle 1, Best of the Best',\n",
       "       'Chopped Champions: Battle 2, Fighting Shape',\n",
       "       'Chopped Champions: Battle 3, Chefs in Control',\n",
       "       'Chopped Champions: Battle 4, Kitchen Storm',\n",
       "       'Chopped Champions: Conclusion, $50,000 Pay Day',\n",
       "       'Cinco de Mayo Fiesta', 'Tortellini Trials', 'Hungry for Love',\n",
       "       'Summer Heat', 'Deadliest Baskets', 'Chopping Block Blues',\n",
       "       'San Franchopco', 'Leap of Faith', 'Fried Chicken Time',\n",
       "       'Snail Snafus', \"Hot Doggin'\", 'Souper Chefs', 'Chili Cook-Off',\n",
       "       'Teen Tournament: Battle 1', 'Teen Tournament: Battle 2',\n",
       "       'Teen Tournament: Battle 3', 'Twins for the Win',\n",
       "       'Teen Tournament: Battle 4', 'Naan the Wiser',\n",
       "       'Teen Tournament: Finale Fight', 'Worst Cooks Challenge',\n",
       "       'Kefir and Loathing', 'Sweetbread Dread', 'Best Halloween Ever',\n",
       "       'On the Quack Burner', 'Web Stars', 'Turkey Day Heroes',\n",
       "       'Holiday Reality Check', \"New Year's Bash\",\n",
       "       'Smorgastarta Your Engines', 'Tailgate Greats',\n",
       "       'Chopped: Beat Bobby Flay, Part 1', 'Midnight Snack Attack',\n",
       "       'Chopped: Beat Bobby Flay, Part 2',\n",
       "       'Chaudin Chow (aka Hearty Party)',\n",
       "       'Chopped: Beat Bobby Flay, Part 3', 'Cheap Eats',\n",
       "       'Chopped: Beat Bobby Flay, Finale', 'Battle of the Butchers',\n",
       "       'Beast Feast', 'Back in Time', \"Viewers' Vengeance\",\n",
       "       'Entree Basket Blues', 'Taco Time!', 'Sweet Heat',\n",
       "       'Betting on the Farm', 'Million Dollar Baskets', 'Basket Buzz',\n",
       "       'Wild Times', \"Clean Eatin'\", 'Whiskey and Wings',\n",
       "       'Celebrating Veterans', 'Oodles of Noodles', 'Game Day Party',\n",
       "       'Chocolate Obsession', 'Blue Plate Fate', 'Chefs in a Pickle',\n",
       "       'Raw Deal', 'Something Dumpling', 'Latin Cuisine Dream',\n",
       "       'Jump for Bok Choy', 'Best Laid Pans', 'Star Power: Web Stars!',\n",
       "       'Star Power: Culinary Muscle!', 'Star Power: The Last Laugh!',\n",
       "       'Star Power: Screen Sensations!', 'Star Power: Grand Finale',\n",
       "       'The Newlywed Game', 'An Ugly Turn', 'Thanks, Mom!', 'Grill Game',\n",
       "       'Greater Tater', \"Father's Day\", 'Got Your Goat?',\n",
       "       'Snap Pea to It!', \"Bangin' Backyard Cookout\", 'Flour Power',\n",
       "       \"Alton's Challenge, Part 1\", \"Alton's Challenge, Part 2\",\n",
       "       \"Alton's Challenge, Part 3\", \"Alton's Challenge, Part 4\",\n",
       "       \"Alton's Challenge, Grand Finale\", 'Clam Clash', 'Clock Shock',\n",
       "       'Food Truck Luck', 'Waffles for the Win', 'Comfort Zone',\n",
       "       'The Beets Go On', 'Spooked', 'Feel the Burn', 'Gimme Gator',\n",
       "       'Flavor Savor', 'Pie Jinks', 'An Iron Chef Thanksgiving',\n",
       "       'Espresso Express', 'Weird Twist', 'Chopped Grand Holiday',\n",
       "       'True Grits', 'Cocktail Party', 'Amped for Ramps',\n",
       "       'Mardi Gras Goals', 'Dim Sum Yum', 'Better Duck Next Time',\n",
       "       'Gold Medal Games: Frying', 'Gold Medal Games: Grilling',\n",
       "       'Gold Medal Games: Fast!', 'Gold Medal Games: Baking',\n",
       "       'Gold Medal Games: Grand Finale',\n",
       "       'Chocolate, Chocolate, Chocolate!', 'The Light Stuff', 'Epic Eats',\n",
       "       'Pork on the Brain', 'Fat Chance', \"You've Been Canned\",\n",
       "       'Million-Dollar Meals', 'Luck of the Irish', 'Wild Game Plan',\n",
       "       'A Frog Leg Up', 'Sensational Sandwiches', 'Leftover Takeover',\n",
       "       'Hush Puppy Love', 'Surf and Turf', 'Under the Cuban Sun',\n",
       "       'Tacos and Tequila', 'Rocky Mountain Masters', 'Chicken Challenge',\n",
       "       'Beer and Brats', 'Team Ice Cream', 'Plum Luck',\n",
       "       'Hot Off the Grill!', 'Bowled Over', 'Doughnut Dash',\n",
       "       \"Room for 'Shrooms\", 'Beach Bites', 'Bar Fight',\n",
       "       'Nourish and Flourish', 'Deadly Catch', 'Wonton Wonder',\n",
       "       'Meat Your Match', 'Gefilte Dish', 'Dill Dilemma', 'Think Small!',\n",
       "       'Lamb Slam', 'Wellington Woes', 'Breakfast Battle', 'Pizza Poetry',\n",
       "       'Dollar Dishes', 'Pasta Possibilities', \"You've Got Snail\",\n",
       "       'Squab Goals', 'Viewers Rule', 'Belly of the Beast',\n",
       "       'Brunch Brilliance', 'Eat Your Veggies', 'Fire it Up!',\n",
       "       'Whiz Kid Cooks', 'Halloween Hijinks',\n",
       "       'Chopped Champs Throwdown: Battle 1',\n",
       "       'Chopped Champs Throwdown: Battle 2',\n",
       "       'Chopped Champs Throwdown: Battle 3',\n",
       "       'Chopped Champs Throwdown: Battle 4',\n",
       "       'Chopped Champs Throwdown: Finale', 'Thankful Siblings',\n",
       "       'Tea Eggs and Sympathy', 'Holly Jolly Grandmas',\n",
       "       \"It's a Sibling Thing\", 'Hotdog Hotshots', 'Ultimate Redemption',\n",
       "       'Game On!', 'Three Cheers for Chocolate!',\n",
       "       'Bacon, Burgers and Beer!', 'Just Add Cheese!', 'Holy Bologna!',\n",
       "       'Plum Fantastic', 'Culinary Fireworks', 'Take the Cake',\n",
       "       'So Sumac Me!', 'Tendon Loving Care', 'Poutine Cuisine',\n",
       "       'Frying Times', 'Thanksgiving Pie, Oh My!',\n",
       "       'Weird, Wacky, and Wild!', 'Sweet and Salty Success', 'Chopped U',\n",
       "       'B.L.D: Breakfast, Lunch, and Dinner!', \"Smokin' Skills\",\n",
       "       'Clambake Stakes', 'Poke Power', 'Grills On! Game On!',\n",
       "       'Beef Cake Mistake', 'Epic Burgers!', 'Hot Dog Hot Shots',\n",
       "       'A Very Brady Chopped', 'Brady Bunch Bash', 'Ooey, Gooey Cheese!',\n",
       "       'Sweets Showdown: Chocolate!', 'Sweets Showdown: Doughnuts!',\n",
       "       'Sweets Showdown: Cake!', 'Sweets Showdown: Ice Cream!',\n",
       "       'Sweets Showdown: Grand Finale!', 'Give it a Nest!',\n",
       "       'Horror Flick Halloween', 'No Meat? No Problem!',\n",
       "       'Thanksgiving Champions', 'Thanksgiving Heroes', 'Meat Fight',\n",
       "       'Holiday Sweethearts', 'Holiday Sugar and Spice',\n",
       "       \"New Year's Party\", 'Dine On A Dime', 'Eyes on the Prize',\n",
       "       'A Pretty Pickle Pizza', 'Lighten Up!', 'Raise Your Game',\n",
       "       '$50,000 Champs Challenge: Part 1',\n",
       "       '$50,000 Champs Challenge: Part 2',\n",
       "       '$50,000 Champs Challenge: Part 3',\n",
       "       '$50,000 Champs Challenge: Part 4',\n",
       "       '$50,000 Champs Challenge: Grand Finale',\n",
       "       'Chock-full of Chocolate', 'High on the Hog', 'Soda Flop',\n",
       "       'Terrine Cuisine', 'Time and Turmoil', 'Jarring Jars',\n",
       "       'Cauliflower Power', 'Quail Without Fail'], dtype=object)"
      ]
     },
     "execution_count": 15,
     "metadata": {},
     "output_type": "execute_result"
    }
   ],
   "source": [
    "chopped['episode_name'].values"
   ]
  },
  {
   "cell_type": "code",
   "execution_count": 17,
   "metadata": {},
   "outputs": [],
   "source": [
    "pickle.dump(cosine_sim,open('cosine_sim.pkl','wb'))"
   ]
  }
 ],
 "metadata": {
  "kernelspec": {
   "display_name": "Python 3 (ipykernel)",
   "language": "python",
   "name": "python3"
  },
  "language_info": {
   "codemirror_mode": {
    "name": "ipython",
    "version": 3
   },
   "file_extension": ".py",
   "mimetype": "text/x-python",
   "name": "python",
   "nbconvert_exporter": "python",
   "pygments_lexer": "ipython3",
   "version": "3.8.3"
  }
 },
 "nbformat": 4,
 "nbformat_minor": 4
}
